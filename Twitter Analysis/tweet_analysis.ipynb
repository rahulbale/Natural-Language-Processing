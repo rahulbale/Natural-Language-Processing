{
 "cells": [
  {
   "cell_type": "markdown",
   "id": "flying-keyboard",
   "metadata": {},
   "source": [
    "# Data Definition:\n",
    "Independent Variable\n",
    "\n",
    "- id - a unique identifier for each tweet\n",
    "- text - the text of the tweet\n",
    "- location - the location the tweet was sent from (may be blank)\n",
    "- keyword - a particular keyword from the tweet (may be blank)\n",
    "\n",
    "Dependent Variable\n",
    "\n",
    "- target - this denotes whether a tweet is about a real disaster (1) or not (0)"
   ]
  },
  {
   "cell_type": "markdown",
   "id": "corresponding-expansion",
   "metadata": {},
   "source": [
    "### Importing Required Libraries"
   ]
  },
  {
   "cell_type": "code",
   "execution_count": 1,
   "id": "inclusive-malpractice",
   "metadata": {},
   "outputs": [],
   "source": [
    "import warnings\n",
    "warnings.filterwarnings('ignore')\n",
    "import pandas as pd\n",
    "import numpy as np\n",
    "import seaborn as sns\n",
    "sns.set()\n",
    "import matplotlib.pyplot as plt\n",
    "import re\n",
    "import os\n",
    "import nltk\n",
    "from nltk.tokenize import word_tokenize\n",
    "import  string \n",
    "from collections import defaultdict\n",
    "from nltk.corpus import stopwords\n",
    "from tensorflow.keras.preprocessing.text import Tokenizer\n",
    "from tensorflow.keras.initializers import Constant\n",
    "from tensorflow.keras.preprocessing.sequence import pad_sequences\n",
    "from tensorflow.keras.models import Sequential\n",
    "from tensorflow.keras.optimizers import Adam\n",
    "from tensorflow.keras.layers import Embedding, LSTM, Dense\n",
    "from sklearn.model_selection import train_test_split"
   ]
  },
  {
   "cell_type": "code",
   "execution_count": 2,
   "id": "nervous-coach",
   "metadata": {},
   "outputs": [
    {
     "data": {
      "text/html": [
       "<div>\n",
       "<style scoped>\n",
       "    .dataframe tbody tr th:only-of-type {\n",
       "        vertical-align: middle;\n",
       "    }\n",
       "\n",
       "    .dataframe tbody tr th {\n",
       "        vertical-align: top;\n",
       "    }\n",
       "\n",
       "    .dataframe thead th {\n",
       "        text-align: right;\n",
       "    }\n",
       "</style>\n",
       "<table border=\"1\" class=\"dataframe\">\n",
       "  <thead>\n",
       "    <tr style=\"text-align: right;\">\n",
       "      <th></th>\n",
       "      <th>id</th>\n",
       "      <th>keyword</th>\n",
       "      <th>location</th>\n",
       "      <th>text</th>\n",
       "      <th>target</th>\n",
       "    </tr>\n",
       "  </thead>\n",
       "  <tbody>\n",
       "    <tr>\n",
       "      <th>0</th>\n",
       "      <td>1</td>\n",
       "      <td>NaN</td>\n",
       "      <td>NaN</td>\n",
       "      <td>Our Deeds are the Reason of this #earthquake M...</td>\n",
       "      <td>1</td>\n",
       "    </tr>\n",
       "    <tr>\n",
       "      <th>1</th>\n",
       "      <td>4</td>\n",
       "      <td>NaN</td>\n",
       "      <td>NaN</td>\n",
       "      <td>Forest fire near La Ronge Sask. Canada</td>\n",
       "      <td>1</td>\n",
       "    </tr>\n",
       "    <tr>\n",
       "      <th>2</th>\n",
       "      <td>5</td>\n",
       "      <td>NaN</td>\n",
       "      <td>NaN</td>\n",
       "      <td>All residents asked to 'shelter in place' are ...</td>\n",
       "      <td>1</td>\n",
       "    </tr>\n",
       "    <tr>\n",
       "      <th>3</th>\n",
       "      <td>6</td>\n",
       "      <td>NaN</td>\n",
       "      <td>NaN</td>\n",
       "      <td>13,000 people receive #wildfires evacuation or...</td>\n",
       "      <td>1</td>\n",
       "    </tr>\n",
       "    <tr>\n",
       "      <th>4</th>\n",
       "      <td>7</td>\n",
       "      <td>NaN</td>\n",
       "      <td>NaN</td>\n",
       "      <td>Just got sent this photo from Ruby #Alaska as ...</td>\n",
       "      <td>1</td>\n",
       "    </tr>\n",
       "  </tbody>\n",
       "</table>\n",
       "</div>"
      ],
      "text/plain": [
       "   id keyword location                                               text  \\\n",
       "0   1     NaN      NaN  Our Deeds are the Reason of this #earthquake M...   \n",
       "1   4     NaN      NaN             Forest fire near La Ronge Sask. Canada   \n",
       "2   5     NaN      NaN  All residents asked to 'shelter in place' are ...   \n",
       "3   6     NaN      NaN  13,000 people receive #wildfires evacuation or...   \n",
       "4   7     NaN      NaN  Just got sent this photo from Ruby #Alaska as ...   \n",
       "\n",
       "   target  \n",
       "0       1  \n",
       "1       1  \n",
       "2       1  \n",
       "3       1  \n",
       "4       1  "
      ]
     },
     "execution_count": 2,
     "metadata": {},
     "output_type": "execute_result"
    }
   ],
   "source": [
    "df = pd.read_csv('twitter_data.csv')\n",
    "df.head()"
   ]
  },
  {
   "cell_type": "code",
   "execution_count": 3,
   "id": "alternate-alaska",
   "metadata": {},
   "outputs": [
    {
     "name": "stdout",
     "output_type": "stream",
     "text": [
      "7613 rows and 5 columns in dataset\n"
     ]
    }
   ],
   "source": [
    "print(\"{} rows and {} columns in dataset\".format(df.shape[0],df.shape[1]))"
   ]
  },
  {
   "cell_type": "code",
   "execution_count": 4,
   "id": "improved-alert",
   "metadata": {},
   "outputs": [
    {
     "data": {
      "text/plain": [
       "id             0\n",
       "keyword       61\n",
       "location    2533\n",
       "text           0\n",
       "target         0\n",
       "dtype: int64"
      ]
     },
     "execution_count": 4,
     "metadata": {},
     "output_type": "execute_result"
    }
   ],
   "source": [
    "df.isnull().sum()"
   ]
  },
  {
   "cell_type": "markdown",
   "id": "conceptual-synthesis",
   "metadata": {},
   "source": [
    "### EDA (Exploratory Data Analysis)"
   ]
  },
  {
   "cell_type": "code",
   "execution_count": 5,
   "id": "phantom-story",
   "metadata": {},
   "outputs": [
    {
     "data": {
      "image/png": "[encoded data removed]",
      "text/plain": [
       "<Figure size 432x288 with 1 Axes>"
      ]
     },
     "metadata": {},
     "output_type": "display_data"
    }
   ],
   "source": [
    "sns.countplot('target', data = df)\n",
    "plt.xlabel(\"Target\")\n",
    "plt.ylabel('Numbers of samples')\n",
    "plt.show()"
   ]
  },
  {
   "cell_type": "code",
   "execution_count": 6,
   "id": "continent-indie",
   "metadata": {},
   "outputs": [
    {
     "data": {
      "image/png": "[encoded data removed]",
      "text/plain": [
       "<Figure size 720x360 with 2 Axes>"
      ]
     },
     "metadata": {},
     "output_type": "display_data"
    }
   ],
   "source": [
    "fig, (ax1,ax2) = plt.subplots(nrows = 1,ncols = 2,figsize = (10,5))\n",
    "\n",
    "no_of_zero = list(df[df['target'] == 0]['text'].map(len))\n",
    "sns.distplot(no_of_zero, ax = ax1, color = 'red')\n",
    "\n",
    "no_of_ones = list(df[df['target'] == 1]['text'].map(len))\n",
    "sns.distplot(no_of_ones, ax = ax2, color = 'green')\n",
    "\n",
    "ax1.set_title('No disaster tweets')\n",
    "ax2.set_title('Diaster  tweets')\n",
    "\n",
    "fig.suptitle('Number of charcters in tweets')\n",
    "plt.show()"
   ]
  },
  {
   "cell_type": "code",
   "execution_count": 7,
   "id": "focused-chocolate",
   "metadata": {},
   "outputs": [],
   "source": [
    "stopword = set(stopwords.words('english'))  #set of stopwords\n",
    "\n",
    "# Common stopwords in tweets\n",
    "def total_stopwords(data, target, stopwords):\n",
    "    list_of_words=[]\n",
    "    words = data[data['target'] == target]['text'].str.split()\n",
    "    for word in words:\n",
    "        for i in word:\n",
    "              list_of_words.append(i)\n",
    "    \n",
    "    dictt = defaultdict(int)\n",
    "    \n",
    "    for list_word in list_of_words:\n",
    "        if list_word in stopword:\n",
    "            dictt[list_word] +=1\n",
    "            \n",
    "    top_10 = sorted(dictt.items(), key = lambda x : x[1], reverse=True)[:10] \n",
    "    \n",
    "    x, y = zip(*top_10)\n",
    "    plt.bar(x,y)\n",
    "    plt.title(\"List of common words\")\n",
    "    plt.show()    "
   ]
  },
  {
   "cell_type": "code",
   "execution_count": 8,
   "id": "affected-crash",
   "metadata": {},
   "outputs": [
    {
     "data": {
      "image/png": "[encoded data removed]",
      "text/plain": [
       "<Figure size 432x288 with 1 Axes>"
      ]
     },
     "metadata": {},
     "output_type": "display_data"
    }
   ],
   "source": [
    "# Common words for No disaster tweets\n",
    "total_stopwords(df, 0, stopwords)"
   ]
  },
  {
   "cell_type": "code",
   "execution_count": 9,
   "id": "solved-foster",
   "metadata": {},
   "outputs": [
    {
     "data": {
      "image/png": "[encoded data removed]",
      "text/plain": [
       "<Figure size 432x288 with 1 Axes>"
      ]
     },
     "metadata": {},
     "output_type": "display_data"
    }
   ],
   "source": [
    "# Common words for Disaster tweets\n",
    "total_stopwords(df, 1, stopwords)"
   ]
  },
  {
   "cell_type": "code",
   "execution_count": 10,
   "id": "respected-price",
   "metadata": {},
   "outputs": [],
   "source": [
    "# Useful Functions\n",
    "\n",
    "def remove_between_square_brackets(text):\n",
    "    \"\"\"Removing Squear brackets from data\"\"\"\n",
    "    return re.sub('\\[[^]]*\\]', '', text)\n",
    "\n",
    "def remove_digits(text):\n",
    "    \"\"\" Remove digits\"\"\"\n",
    "    return re.sub('[&#\\d%/$]', '', text)\n",
    "\n",
    "def remove_url(text):\n",
    "    \"\"\" Remove url's\"\"\"\n",
    "    url = re.compile(r\"https?://\\S+|www\\.\\S+\")\n",
    "    return url.sub(r\"\", text)\n",
    "\n",
    "def remove_html(text):\n",
    "    \"\"\" Remove html tags\"\"\"\n",
    "    html = re.compile(r'<.*?>')\n",
    "    return html.sub(r\"\", text)\n",
    "\n",
    "def remove_emojis(text):\n",
    "    \"\"\"Remove emojis\"\"\"\n",
    "    # reference : https://stackoverflow.com/questions/33404752/removing-emojis-from-a-string-in-python/49146722#49146722\n",
    "    emoji_pattern = re.compile(\"[\"\n",
    "                           u\"\\U0001F600-\\U0001F64F\"  # emoticons\n",
    "                           u\"\\U0001F300-\\U0001F5FF\"  # symbols & pictographs\n",
    "                           u\"\\U0001F680-\\U0001F6FF\"  # transport & map symbols\n",
    "                           u\"\\U0001F1E0-\\U0001F1FF\"  # flags (iOS)\n",
    "                           u\"\\U00002702-\\U000027B0\"\n",
    "                           u\"\\U000024C2-\\U0001F251\"\n",
    "                           \"]+\", flags=re.UNICODE)\n",
    "    return emoji_pattern.sub(r'', text)\n",
    "\n",
    "def remove_punctuation(text):\n",
    "    \"\"\"Remove punctuation\"\"\"\n",
    "    return re.sub(r'[^\\w\\s]', '', text)\n",
    "     \n",
    "     \n",
    "def removing_noice(text):\n",
    "    \"\"\"All the functions into one function\"\"\"\n",
    "    text = remove_between_square_brackets(text)\n",
    "    text = remove_digits(text)\n",
    "    text = remove_url(text)\n",
    "    text = remove_html(text)\n",
    "    text = remove_emojis(text)\n",
    "    text = remove_punctuation(text)\n",
    "    return text"
   ]
  },
  {
   "cell_type": "code",
   "execution_count": 11,
   "id": "finished-absolute",
   "metadata": {},
   "outputs": [],
   "source": [
    "#Aplying function to the text\n",
    "df['text'] = df['text'].map(removing_noice)"
   ]
  },
  {
   "cell_type": "code",
   "execution_count": 12,
   "id": "white-company",
   "metadata": {},
   "outputs": [
    {
     "data": {
      "text/html": [
       "<div>\n",
       "<style scoped>\n",
       "    .dataframe tbody tr th:only-of-type {\n",
       "        vertical-align: middle;\n",
       "    }\n",
       "\n",
       "    .dataframe tbody tr th {\n",
       "        vertical-align: top;\n",
       "    }\n",
       "\n",
       "    .dataframe thead th {\n",
       "        text-align: right;\n",
       "    }\n",
       "</style>\n",
       "<table border=\"1\" class=\"dataframe\">\n",
       "  <thead>\n",
       "    <tr style=\"text-align: right;\">\n",
       "      <th></th>\n",
       "      <th>id</th>\n",
       "      <th>keyword</th>\n",
       "      <th>location</th>\n",
       "      <th>text</th>\n",
       "      <th>target</th>\n",
       "    </tr>\n",
       "  </thead>\n",
       "  <tbody>\n",
       "    <tr>\n",
       "      <th>0</th>\n",
       "      <td>1</td>\n",
       "      <td>NaN</td>\n",
       "      <td>NaN</td>\n",
       "      <td>Our Deeds are the Reason of this earthquake Ma...</td>\n",
       "      <td>1</td>\n",
       "    </tr>\n",
       "    <tr>\n",
       "      <th>1</th>\n",
       "      <td>4</td>\n",
       "      <td>NaN</td>\n",
       "      <td>NaN</td>\n",
       "      <td>Forest fire near La Ronge Sask Canada</td>\n",
       "      <td>1</td>\n",
       "    </tr>\n",
       "    <tr>\n",
       "      <th>2</th>\n",
       "      <td>5</td>\n",
       "      <td>NaN</td>\n",
       "      <td>NaN</td>\n",
       "      <td>All residents asked to shelter in place are be...</td>\n",
       "      <td>1</td>\n",
       "    </tr>\n",
       "    <tr>\n",
       "      <th>3</th>\n",
       "      <td>6</td>\n",
       "      <td>NaN</td>\n",
       "      <td>NaN</td>\n",
       "      <td>people receive wildfires evacuation orders in...</td>\n",
       "      <td>1</td>\n",
       "    </tr>\n",
       "    <tr>\n",
       "      <th>4</th>\n",
       "      <td>7</td>\n",
       "      <td>NaN</td>\n",
       "      <td>NaN</td>\n",
       "      <td>Just got sent this photo from Ruby Alaska as s...</td>\n",
       "      <td>1</td>\n",
       "    </tr>\n",
       "  </tbody>\n",
       "</table>\n",
       "</div>"
      ],
      "text/plain": [
       "   id keyword location                                               text  \\\n",
       "0   1     NaN      NaN  Our Deeds are the Reason of this earthquake Ma...   \n",
       "1   4     NaN      NaN              Forest fire near La Ronge Sask Canada   \n",
       "2   5     NaN      NaN  All residents asked to shelter in place are be...   \n",
       "3   6     NaN      NaN   people receive wildfires evacuation orders in...   \n",
       "4   7     NaN      NaN  Just got sent this photo from Ruby Alaska as s...   \n",
       "\n",
       "   target  \n",
       "0       1  \n",
       "1       1  \n",
       "2       1  \n",
       "3       1  \n",
       "4       1  "
      ]
     },
     "execution_count": 12,
     "metadata": {},
     "output_type": "execute_result"
    }
   ],
   "source": [
    "df.head()"
   ]
  },
  {
   "cell_type": "code",
   "execution_count": 13,
   "id": "classical-convenience",
   "metadata": {},
   "outputs": [],
   "source": [
    "def create_corpus(df):\n",
    "    corpos = []\n",
    "    for words in df['text']:\n",
    "        tok = word_tokenize(words)\n",
    "        data = [word.lower() for word in tok if((word.isalpha() == 1) & (word not in stopword))]\n",
    "        corpos.append(data)\n",
    "    return corpos"
   ]
  },
  {
   "cell_type": "code",
   "execution_count": 14,
   "id": "abandoned-generation",
   "metadata": {},
   "outputs": [],
   "source": [
    "corpus = create_corpus(df)"
   ]
  },
  {
   "cell_type": "markdown",
   "id": "spoken-campbell",
   "metadata": {},
   "source": [
    "### Using GloVe for Vectorization"
   ]
  },
  {
   "cell_type": "code",
   "execution_count": 15,
   "id": "economic-young",
   "metadata": {},
   "outputs": [],
   "source": [
    "embedding_dict={}\n",
    "with open('glove.6B.100d.txt','r', encoding=\"utf8\") as f:\n",
    "    for line in f:\n",
    "        values = line.split()\n",
    "        word = values[0]\n",
    "        vectors = np.asarray(values[1:],'float32')\n",
    "        embedding_dict[word] = vectors"
   ]
  },
  {
   "cell_type": "code",
   "execution_count": 16,
   "id": "patent-privacy",
   "metadata": {},
   "outputs": [],
   "source": [
    "# Implementing Tokenizer and pad_sequeces\n",
    "MAX_LEN=50\n",
    "tokenizer_obj = Tokenizer()\n",
    "tokenizer_obj.fit_on_texts(corpus)\n",
    "sequences = tokenizer_obj.texts_to_sequences(corpus)\n",
    "\n",
    "pad_obj = pad_sequences(sequences, maxlen=MAX_LEN, truncating='post', padding='post')"
   ]
  },
  {
   "cell_type": "code",
   "execution_count": 17,
   "id": "medical-anxiety",
   "metadata": {},
   "outputs": [
    {
     "data": {
      "text/plain": [
       "array([[ 596, 4349,  765, ...,    0,    0,    0],\n",
       "       [ 117,    7,  156, ...,    0,    0,    0],\n",
       "       [ 118, 1625, 1499, ...,    0,    0,    0],\n",
       "       ...,\n",
       "       [ 416,  548,  244, ...,    0,    0,    0],\n",
       "       [  20, 1041, 3049, ...,    0,    0,    0],\n",
       "       [   2,  139,   87, ...,    0,    0,    0]])"
      ]
     },
     "execution_count": 17,
     "metadata": {},
     "output_type": "execute_result"
    }
   ],
   "source": [
    "pad_obj"
   ]
  },
  {
   "cell_type": "code",
   "execution_count": 18,
   "id": "outer-peoples",
   "metadata": {},
   "outputs": [
    {
     "name": "stdout",
     "output_type": "stream",
     "text": [
      "Number of unique words: 21191\n"
     ]
    }
   ],
   "source": [
    "word_index = tokenizer_obj.word_index\n",
    "print('Number of unique words:',len(word_index))"
   ]
  },
  {
   "cell_type": "code",
   "execution_count": 19,
   "id": "downtown-pioneer",
   "metadata": {},
   "outputs": [
    {
     "name": "stdout",
     "output_type": "stream",
     "text": [
      "{'i': 1, 'the': 2, 'like': 3, 'a': 4, 'amp': 5}\n"
     ]
    }
   ],
   "source": [
    "import itertools\n",
    "print(dict(itertools.islice(word_index.items(), 5)))"
   ]
  },
  {
   "cell_type": "code",
   "execution_count": 20,
   "id": "extra-white",
   "metadata": {},
   "outputs": [],
   "source": [
    "num_words = len(word_index) + 1\n",
    "embedding_matrix = np.zeros((num_words, 100))\n",
    "\n",
    "for word, i in word_index.items():\n",
    "    if i > num_words:\n",
    "        continue\n",
    "        \n",
    "    emb_vec = embedding_dict.get(word)\n",
    "    if emb_vec is not None:\n",
    "        embedding_matrix[i] = emb_vec"
   ]
  },
  {
   "cell_type": "code",
   "execution_count": 21,
   "id": "cooked-cisco",
   "metadata": {},
   "outputs": [
    {
     "data": {
      "text/plain": [
       "array([[ 0.        ,  0.        ,  0.        , ...,  0.        ,\n",
       "         0.        ,  0.        ],\n",
       "       [-0.046539  ,  0.61966002,  0.56647003, ..., -0.37616   ,\n",
       "        -0.032502  ,  0.80620003],\n",
       "       [-0.038194  , -0.24487001,  0.72812003, ..., -0.1459    ,\n",
       "         0.82779998,  0.27061999],\n",
       "       ...,\n",
       "       [ 0.        ,  0.        ,  0.        , ...,  0.        ,\n",
       "         0.        ,  0.        ],\n",
       "       [ 0.        ,  0.        ,  0.        , ...,  0.        ,\n",
       "         0.        ,  0.        ],\n",
       "       [ 0.        ,  0.        ,  0.        , ...,  0.        ,\n",
       "         0.        ,  0.        ]])"
      ]
     },
     "execution_count": 21,
     "metadata": {},
     "output_type": "execute_result"
    }
   ],
   "source": [
    "embedding_matrix"
   ]
  },
  {
   "cell_type": "markdown",
   "id": "different-number",
   "metadata": {},
   "source": [
    "### Building Model"
   ]
  },
  {
   "cell_type": "code",
   "execution_count": 22,
   "id": "interpreted-aquarium",
   "metadata": {},
   "outputs": [
    {
     "name": "stdout",
     "output_type": "stream",
     "text": [
      "Model: \"sequential\"\n",
      "_________________________________________________________________\n",
      "Layer (type)                 Output Shape              Param #   \n",
      "=================================================================\n",
      "embedding (Embedding)        (None, 50, 100)           2119200   \n",
      "_________________________________________________________________\n",
      "lstm (LSTM)                  (None, 64)                42240     \n",
      "_________________________________________________________________\n",
      "dense (Dense)                (None, 1)                 65        \n",
      "=================================================================\n",
      "Total params: 2,161,505\n",
      "Trainable params: 42,305\n",
      "Non-trainable params: 2,119,200\n",
      "_________________________________________________________________\n"
     ]
    }
   ],
   "source": [
    "model =  Sequential()\n",
    "model.add(Embedding(num_words, 100, embeddings_initializer = Constant(embedding_matrix), \n",
    "                    input_length=MAX_LEN,trainable=False))\n",
    "\n",
    "model.add(LSTM(64, dropout=0.1))\n",
    "model.add(Dense(1, activation=\"sigmoid\"))\n",
    "\n",
    "model.summary()"
   ]
  },
  {
   "cell_type": "code",
   "execution_count": 23,
   "id": "danish-martin",
   "metadata": {},
   "outputs": [],
   "source": [
    "model.compile(optimizer = Adam(learning_rate=1e-5), loss = 'binary_crossentropy', metrics = ['accuracy'])"
   ]
  },
  {
   "cell_type": "markdown",
   "id": "bulgarian-nelson",
   "metadata": {},
   "source": [
    "### Spliting data into Train and Test"
   ]
  },
  {
   "cell_type": "code",
   "execution_count": 24,
   "id": "young-think",
   "metadata": {},
   "outputs": [
    {
     "name": "stdout",
     "output_type": "stream",
     "text": [
      "Shape of train (6471, 50)\n",
      "Shape of Validation  (1142, 50)\n"
     ]
    }
   ],
   "source": [
    "X_train, X_val, y_train, y_val = train_test_split(pad_obj, df.target.values, test_size=0.15)\n",
    "print('Shape of train',X_train.shape)\n",
    "print(\"Shape of Validation \",X_val.shape)"
   ]
  },
  {
   "cell_type": "markdown",
   "id": "multiple-imaging",
   "metadata": {},
   "source": [
    "### Training the model"
   ]
  },
  {
   "cell_type": "code",
   "execution_count": 25,
   "id": "sealed-interstate",
   "metadata": {},
   "outputs": [
    {
     "name": "stdout",
     "output_type": "stream",
     "text": [
      "Epoch 1/20\n",
      "1295/1295 - 42s - loss: 0.6774 - accuracy: 0.5894 - val_loss: 0.5805 - val_accuracy: 0.7566\n",
      "Epoch 2/20\n",
      "1295/1295 - 42s - loss: 0.5303 - accuracy: 0.7657 - val_loss: 0.5258 - val_accuracy: 0.7539\n",
      "Epoch 3/20\n",
      "1295/1295 - 41s - loss: 0.5036 - accuracy: 0.7756 - val_loss: 0.5106 - val_accuracy: 0.7618\n",
      "Epoch 4/20\n",
      "1295/1295 - 39s - loss: 0.4918 - accuracy: 0.7810 - val_loss: 0.4966 - val_accuracy: 0.7785\n",
      "Epoch 5/20\n",
      "1295/1295 - 41s - loss: 0.4809 - accuracy: 0.7869 - val_loss: 0.4884 - val_accuracy: 0.7820\n",
      "Epoch 6/20\n",
      "1295/1295 - 39s - loss: 0.4757 - accuracy: 0.7874 - val_loss: 0.4807 - val_accuracy: 0.7811\n",
      "Epoch 7/20\n",
      "1295/1295 - 37s - loss: 0.4642 - accuracy: 0.7996 - val_loss: 0.4766 - val_accuracy: 0.7828\n",
      "Epoch 8/20\n",
      "1295/1295 - 37s - loss: 0.4618 - accuracy: 0.7979 - val_loss: 0.4715 - val_accuracy: 0.7828\n",
      "Epoch 9/20\n",
      "1295/1295 - 37s - loss: 0.4559 - accuracy: 0.8039 - val_loss: 0.4703 - val_accuracy: 0.7890\n",
      "Epoch 10/20\n",
      "1295/1295 - 38s - loss: 0.4550 - accuracy: 0.7999 - val_loss: 0.4668 - val_accuracy: 0.7916\n",
      "Epoch 11/20\n",
      "1295/1295 - 37s - loss: 0.4491 - accuracy: 0.8044 - val_loss: 0.4632 - val_accuracy: 0.7933\n",
      "Epoch 12/20\n",
      "1295/1295 - 38s - loss: 0.4477 - accuracy: 0.8037 - val_loss: 0.4590 - val_accuracy: 0.7925\n",
      "Epoch 13/20\n",
      "1295/1295 - 37s - loss: 0.4456 - accuracy: 0.8045 - val_loss: 0.4581 - val_accuracy: 0.7951\n",
      "Epoch 14/20\n",
      "1295/1295 - 41s - loss: 0.4423 - accuracy: 0.8082 - val_loss: 0.4538 - val_accuracy: 0.7977\n",
      "Epoch 15/20\n",
      "1295/1295 - 47s - loss: 0.4406 - accuracy: 0.8102 - val_loss: 0.4543 - val_accuracy: 0.7977\n",
      "Epoch 16/20\n",
      "1295/1295 - 39s - loss: 0.4420 - accuracy: 0.8064 - val_loss: 0.4549 - val_accuracy: 0.7942\n",
      "Epoch 17/20\n",
      "1295/1295 - 39s - loss: 0.4381 - accuracy: 0.8090 - val_loss: 0.4485 - val_accuracy: 0.8056\n",
      "Epoch 18/20\n",
      "1295/1295 - 39s - loss: 0.4351 - accuracy: 0.8129 - val_loss: 0.4483 - val_accuracy: 0.8004\n",
      "Epoch 19/20\n",
      "1295/1295 - 43s - loss: 0.4340 - accuracy: 0.8121 - val_loss: 0.4493 - val_accuracy: 0.8004\n",
      "Epoch 20/20\n",
      "1295/1295 - 38s - loss: 0.4295 - accuracy: 0.8142 - val_loss: 0.4456 - val_accuracy: 0.8056\n"
     ]
    }
   ],
   "source": [
    "history = model.fit(X_train, y_train, batch_size=5, epochs=20, \n",
    "                    validation_data = (X_val,y_val), verbose=2)"
   ]
  },
  {
   "cell_type": "code",
   "execution_count": 26,
   "id": "numeric-chancellor",
   "metadata": {},
   "outputs": [],
   "source": [
    "def plot_results(history):\n",
    "    training_accuracy = history.history['accuracy']\n",
    "    validation_accuracy = history.history['val_accuracy']\n",
    "    plt.plot(training_accuracy, label = 'train_acc')\n",
    "    plt.plot(validation_accuracy, label = 'val_acc')\n",
    "    plt.legend()\n",
    "    plt.xlabel('Epochs')\n",
    "    plt.ylabel('Accuracy')\n",
    "    plt.show()\n",
    "\n",
    "    training_loss = history.history['loss']\n",
    "    validation_loss = history.history['val_loss']\n",
    "    plt.plot(training_loss, label = 'train_loss')\n",
    "    plt.plot(validation_loss, label = 'val_loss')\n",
    "    plt.legend()\n",
    "    plt.xlabel('Epochs')\n",
    "    plt.ylabel('Loss')\n",
    "    plt.show()"
   ]
  },
  {
   "cell_type": "code",
   "execution_count": 27,
   "id": "uniform-submission",
   "metadata": {},
   "outputs": [
    {
     "data": {
      "image/png": "[encoded data removed]",
      "text/plain": [
       "<Figure size 432x288 with 1 Axes>"
      ]
     },
     "metadata": {},
     "output_type": "display_data"
    },
    {
     "data": {
      "image/png": "[encoded data removed]",
      "text/plain": [
       "<Figure size 432x288 with 1 Axes>"
      ]
     },
     "metadata": {},
     "output_type": "display_data"
    }
   ],
   "source": [
    "plot_results(history)"
   ]
  },
  {
   "cell_type": "code",
   "execution_count": 28,
   "id": "rotary-cycle",
   "metadata": {},
   "outputs": [
    {
     "name": "stdout",
     "output_type": "stream",
     "text": [
      "Saved model to disk !!!\n"
     ]
    }
   ],
   "source": [
    "model_json = model.to_json()\n",
    "with open(\"tweet.json\", \"w\") as json_file:\n",
    "    json_file.write(model_json)\n",
    "\n",
    "# serialize weights to HDF5\n",
    "model.save_weights(\"tweet.h5\")\n",
    "print(\"Saved model to disk !!!\")"
   ]
  },
  {
   "cell_type": "code",
   "execution_count": null,
   "id": "extensive-strip",
   "metadata": {},
   "outputs": [],
   "source": []
  }
 ],
 "metadata": {
  "kernelspec": {
   "display_name": "Python 3",
   "language": "python",
   "name": "python3"
  },
  "language_info": {
   "codemirror_mode": {
    "name": "ipython",
    "version": 3
   },
   "file_extension": ".py",
   "mimetype": "text/x-python",
   "name": "python",
   "nbconvert_exporter": "python",
   "pygments_lexer": "ipython3",
   "version": "3.8.8"
  }
 },
 "nbformat": 4,
 "nbformat_minor": 5
}
